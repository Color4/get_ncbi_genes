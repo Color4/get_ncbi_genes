{
 "cells": [
  {
   "cell_type": "code",
   "execution_count": 1,
   "metadata": {
    "collapsed": true
   },
   "outputs": [],
   "source": [
    "import numpy as np\n",
    "import pandas as pd"
   ]
  },
  {
   "cell_type": "code",
   "execution_count": 184,
   "metadata": {
    "collapsed": false
   },
   "outputs": [],
   "source": [
    "# import raw GFF\n",
    "gene_df_raw = pd.read_csv('GRCh37_latest_genomic.gff',sep='\\t',header=None,comment='#',engine='python')"
   ]
  },
  {
   "cell_type": "code",
   "execution_count": 185,
   "metadata": {
    "collapsed": false
   },
   "outputs": [
    {
     "data": {
      "text/html": [
       "<div>\n",
       "<table border=\"1\" class=\"dataframe\">\n",
       "  <thead>\n",
       "    <tr style=\"text-align: right;\">\n",
       "      <th></th>\n",
       "      <th>0</th>\n",
       "      <th>1</th>\n",
       "      <th>2</th>\n",
       "      <th>3</th>\n",
       "      <th>4</th>\n",
       "      <th>5</th>\n",
       "      <th>6</th>\n",
       "      <th>7</th>\n",
       "      <th>8</th>\n",
       "    </tr>\n",
       "  </thead>\n",
       "  <tbody>\n",
       "    <tr>\n",
       "      <th>0</th>\n",
       "      <td>NC_000001.10</td>\n",
       "      <td>RefSeq</td>\n",
       "      <td>region</td>\n",
       "      <td>1</td>\n",
       "      <td>249250621</td>\n",
       "      <td>.</td>\n",
       "      <td>+</td>\n",
       "      <td>.</td>\n",
       "      <td>ID=id0;Dbxref=taxon:9606;Name=1;chromosome=1;g...</td>\n",
       "    </tr>\n",
       "    <tr>\n",
       "      <th>1</th>\n",
       "      <td>NC_000001.10</td>\n",
       "      <td>BestRefSeq</td>\n",
       "      <td>gene</td>\n",
       "      <td>11874</td>\n",
       "      <td>14409</td>\n",
       "      <td>.</td>\n",
       "      <td>+</td>\n",
       "      <td>.</td>\n",
       "      <td>ID=gene0;Dbxref=GeneID:100287102,HGNC:HGNC:371...</td>\n",
       "    </tr>\n",
       "    <tr>\n",
       "      <th>2</th>\n",
       "      <td>NC_000001.10</td>\n",
       "      <td>BestRefSeq</td>\n",
       "      <td>transcript</td>\n",
       "      <td>11874</td>\n",
       "      <td>14409</td>\n",
       "      <td>.</td>\n",
       "      <td>+</td>\n",
       "      <td>.</td>\n",
       "      <td>ID=rna0;Parent=gene0;Dbxref=GeneID:100287102,G...</td>\n",
       "    </tr>\n",
       "    <tr>\n",
       "      <th>3</th>\n",
       "      <td>NC_000001.10</td>\n",
       "      <td>BestRefSeq</td>\n",
       "      <td>exon</td>\n",
       "      <td>11874</td>\n",
       "      <td>12227</td>\n",
       "      <td>.</td>\n",
       "      <td>+</td>\n",
       "      <td>.</td>\n",
       "      <td>ID=id1;Parent=rna0;Dbxref=GeneID:100287102,Gen...</td>\n",
       "    </tr>\n",
       "    <tr>\n",
       "      <th>4</th>\n",
       "      <td>NC_000001.10</td>\n",
       "      <td>BestRefSeq</td>\n",
       "      <td>exon</td>\n",
       "      <td>12613</td>\n",
       "      <td>12721</td>\n",
       "      <td>.</td>\n",
       "      <td>+</td>\n",
       "      <td>.</td>\n",
       "      <td>ID=id2;Parent=rna0;Dbxref=GeneID:100287102,Gen...</td>\n",
       "    </tr>\n",
       "  </tbody>\n",
       "</table>\n",
       "</div>"
      ],
      "text/plain": [
       "              0           1           2      3          4  5  6  7  \\\n",
       "0  NC_000001.10      RefSeq      region      1  249250621  .  +  .   \n",
       "1  NC_000001.10  BestRefSeq        gene  11874      14409  .  +  .   \n",
       "2  NC_000001.10  BestRefSeq  transcript  11874      14409  .  +  .   \n",
       "3  NC_000001.10  BestRefSeq        exon  11874      12227  .  +  .   \n",
       "4  NC_000001.10  BestRefSeq        exon  12613      12721  .  +  .   \n",
       "\n",
       "                                                   8  \n",
       "0  ID=id0;Dbxref=taxon:9606;Name=1;chromosome=1;g...  \n",
       "1  ID=gene0;Dbxref=GeneID:100287102,HGNC:HGNC:371...  \n",
       "2  ID=rna0;Parent=gene0;Dbxref=GeneID:100287102,G...  \n",
       "3  ID=id1;Parent=rna0;Dbxref=GeneID:100287102,Gen...  \n",
       "4  ID=id2;Parent=rna0;Dbxref=GeneID:100287102,Gen...  "
      ]
     },
     "execution_count": 185,
     "metadata": {},
     "output_type": "execute_result"
    }
   ],
   "source": [
    "gene_df_raw.head()"
   ]
  },
  {
   "cell_type": "code",
   "execution_count": 258,
   "metadata": {
    "collapsed": false
   },
   "outputs": [],
   "source": [
    "# determined which columns to use\n",
    "gene_df_init = pd.read_csv('GRCh37_latest_genomic.gff',sep='\\t',header=None,comment='#',\n",
    "                         usecols=[0,1,2,3,4,6,8])"
   ]
  },
  {
   "cell_type": "code",
   "execution_count": 235,
   "metadata": {
    "collapsed": false
   },
   "outputs": [
    {
     "data": {
      "text/html": [
       "<div>\n",
       "<table border=\"1\" class=\"dataframe\">\n",
       "  <thead>\n",
       "    <tr style=\"text-align: right;\">\n",
       "      <th></th>\n",
       "      <th>0</th>\n",
       "      <th>1</th>\n",
       "      <th>2</th>\n",
       "      <th>3</th>\n",
       "      <th>4</th>\n",
       "      <th>6</th>\n",
       "      <th>8</th>\n",
       "    </tr>\n",
       "  </thead>\n",
       "  <tbody>\n",
       "    <tr>\n",
       "      <th>1288065</th>\n",
       "      <td>NC_012920.1</td>\n",
       "      <td>RefSeq</td>\n",
       "      <td>exon</td>\n",
       "      <td>15888</td>\n",
       "      <td>15953</td>\n",
       "      <td>+</td>\n",
       "      <td>ID=id632674;Parent=rna68813;Dbxref=GeneID:4576...</td>\n",
       "    </tr>\n",
       "    <tr>\n",
       "      <th>1288066</th>\n",
       "      <td>NC_012920.1</td>\n",
       "      <td>RefSeq</td>\n",
       "      <td>gene</td>\n",
       "      <td>15956</td>\n",
       "      <td>16023</td>\n",
       "      <td>-</td>\n",
       "      <td>ID=gene47211;Dbxref=GeneID:4571,HGNC:HGNC:7494...</td>\n",
       "    </tr>\n",
       "    <tr>\n",
       "      <th>1288067</th>\n",
       "      <td>NC_012920.1</td>\n",
       "      <td>RefSeq</td>\n",
       "      <td>tRNA</td>\n",
       "      <td>15956</td>\n",
       "      <td>16023</td>\n",
       "      <td>-</td>\n",
       "      <td>ID=rna68814;Parent=gene47211;Dbxref=GeneID:457...</td>\n",
       "    </tr>\n",
       "    <tr>\n",
       "      <th>1288068</th>\n",
       "      <td>NC_012920.1</td>\n",
       "      <td>RefSeq</td>\n",
       "      <td>exon</td>\n",
       "      <td>15956</td>\n",
       "      <td>16023</td>\n",
       "      <td>-</td>\n",
       "      <td>ID=id632675;Parent=rna68814;Dbxref=GeneID:4571...</td>\n",
       "    </tr>\n",
       "    <tr>\n",
       "      <th>1288069</th>\n",
       "      <td>NC_012920.1</td>\n",
       "      <td>RefSeq</td>\n",
       "      <td>D_loop</td>\n",
       "      <td>16024</td>\n",
       "      <td>17145</td>\n",
       "      <td>-</td>\n",
       "      <td>ID=id632676;gbkey=D-loop</td>\n",
       "    </tr>\n",
       "  </tbody>\n",
       "</table>\n",
       "</div>"
      ],
      "text/plain": [
       "                   0       1       2      3      4  6  \\\n",
       "1288065  NC_012920.1  RefSeq    exon  15888  15953  +   \n",
       "1288066  NC_012920.1  RefSeq    gene  15956  16023  -   \n",
       "1288067  NC_012920.1  RefSeq    tRNA  15956  16023  -   \n",
       "1288068  NC_012920.1  RefSeq    exon  15956  16023  -   \n",
       "1288069  NC_012920.1  RefSeq  D_loop  16024  17145  -   \n",
       "\n",
       "                                                         8  \n",
       "1288065  ID=id632674;Parent=rna68813;Dbxref=GeneID:4576...  \n",
       "1288066  ID=gene47211;Dbxref=GeneID:4571,HGNC:HGNC:7494...  \n",
       "1288067  ID=rna68814;Parent=gene47211;Dbxref=GeneID:457...  \n",
       "1288068  ID=id632675;Parent=rna68814;Dbxref=GeneID:4571...  \n",
       "1288069                           ID=id632676;gbkey=D-loop  "
      ]
     },
     "execution_count": 235,
     "metadata": {},
     "output_type": "execute_result"
    }
   ],
   "source": [
    "gene_df_init.tail()"
   ]
  },
  {
   "cell_type": "code",
   "execution_count": 259,
   "metadata": {
    "collapsed": false
   },
   "outputs": [],
   "source": [
    "chr_names = {'NC_000001.10':1,'NC_000002.11':2,'NC_000003.11':3,'NC_000004.11':4,\n",
    "            'NC_000005.9':5,'NC_000006.11':6,'NC_000007.13':7,'NC_000008.10':8,\n",
    "            'NC_000009.11':9,'NC_000010.10':10,'NC_000011.9':11,'NC_000012.11':12,\n",
    "            'NC_000013.10':13,'NC_000014.8':14,'NC_000015.9':15,'NC_000016.9':16,\n",
    "            'NC_000017.10':17,'NC_000018.9':18,'NC_000019.9':19,'NC_000020.10':20,\n",
    "            'NC_000021.8':21,'NC_000022.10':22,'NC_000023.10':'X','NC_000024.9':'Y',\n",
    "            'NC_012920.1':'M'}"
   ]
  },
  {
   "cell_type": "code",
   "execution_count": 260,
   "metadata": {
    "collapsed": false
   },
   "outputs": [],
   "source": [
    "# converted chromosome names\n",
    "gene_df_init[0]=gene_df_init[0].replace(chr_names)"
   ]
  },
  {
   "cell_type": "code",
   "execution_count": 261,
   "metadata": {
    "collapsed": false
   },
   "outputs": [
    {
     "data": {
      "text/html": [
       "<div>\n",
       "<table border=\"1\" class=\"dataframe\">\n",
       "  <thead>\n",
       "    <tr style=\"text-align: right;\">\n",
       "      <th></th>\n",
       "      <th>0</th>\n",
       "      <th>1</th>\n",
       "      <th>2</th>\n",
       "      <th>3</th>\n",
       "      <th>4</th>\n",
       "      <th>6</th>\n",
       "      <th>8</th>\n",
       "    </tr>\n",
       "  </thead>\n",
       "  <tbody>\n",
       "    <tr>\n",
       "      <th>0</th>\n",
       "      <td>1</td>\n",
       "      <td>RefSeq</td>\n",
       "      <td>region</td>\n",
       "      <td>1</td>\n",
       "      <td>249250621</td>\n",
       "      <td>+</td>\n",
       "      <td>ID=id0;Dbxref=taxon:9606;Name=1;chromosome=1;g...</td>\n",
       "    </tr>\n",
       "    <tr>\n",
       "      <th>1</th>\n",
       "      <td>1</td>\n",
       "      <td>BestRefSeq</td>\n",
       "      <td>gene</td>\n",
       "      <td>11874</td>\n",
       "      <td>14409</td>\n",
       "      <td>+</td>\n",
       "      <td>ID=gene0;Dbxref=GeneID:100287102,HGNC:HGNC:371...</td>\n",
       "    </tr>\n",
       "    <tr>\n",
       "      <th>2</th>\n",
       "      <td>1</td>\n",
       "      <td>BestRefSeq</td>\n",
       "      <td>transcript</td>\n",
       "      <td>11874</td>\n",
       "      <td>14409</td>\n",
       "      <td>+</td>\n",
       "      <td>ID=rna0;Parent=gene0;Dbxref=GeneID:100287102,G...</td>\n",
       "    </tr>\n",
       "    <tr>\n",
       "      <th>3</th>\n",
       "      <td>1</td>\n",
       "      <td>BestRefSeq</td>\n",
       "      <td>exon</td>\n",
       "      <td>11874</td>\n",
       "      <td>12227</td>\n",
       "      <td>+</td>\n",
       "      <td>ID=id1;Parent=rna0;Dbxref=GeneID:100287102,Gen...</td>\n",
       "    </tr>\n",
       "    <tr>\n",
       "      <th>4</th>\n",
       "      <td>1</td>\n",
       "      <td>BestRefSeq</td>\n",
       "      <td>exon</td>\n",
       "      <td>12613</td>\n",
       "      <td>12721</td>\n",
       "      <td>+</td>\n",
       "      <td>ID=id2;Parent=rna0;Dbxref=GeneID:100287102,Gen...</td>\n",
       "    </tr>\n",
       "  </tbody>\n",
       "</table>\n",
       "</div>"
      ],
      "text/plain": [
       "   0           1           2      3          4  6  \\\n",
       "0  1      RefSeq      region      1  249250621  +   \n",
       "1  1  BestRefSeq        gene  11874      14409  +   \n",
       "2  1  BestRefSeq  transcript  11874      14409  +   \n",
       "3  1  BestRefSeq        exon  11874      12227  +   \n",
       "4  1  BestRefSeq        exon  12613      12721  +   \n",
       "\n",
       "                                                   8  \n",
       "0  ID=id0;Dbxref=taxon:9606;Name=1;chromosome=1;g...  \n",
       "1  ID=gene0;Dbxref=GeneID:100287102,HGNC:HGNC:371...  \n",
       "2  ID=rna0;Parent=gene0;Dbxref=GeneID:100287102,G...  \n",
       "3  ID=id1;Parent=rna0;Dbxref=GeneID:100287102,Gen...  \n",
       "4  ID=id2;Parent=rna0;Dbxref=GeneID:100287102,Gen...  "
      ]
     },
     "execution_count": 261,
     "metadata": {},
     "output_type": "execute_result"
    }
   ],
   "source": [
    "gene_df_init.head()"
   ]
  },
  {
   "cell_type": "code",
   "execution_count": 241,
   "metadata": {
    "collapsed": false
   },
   "outputs": [],
   "source": [
    "# remove names not converted (patches and alternatives - not reliable)\n",
    "\n",
    "# gene_df_init = gene_df_init.loc[~gene_df_init[0].astype(str).str.contains('NC_0')]\n",
    "gene_df_init.to_csv('test.tsv',sep='\\t',index=False)"
   ]
  },
  {
   "cell_type": "code",
   "execution_count": 262,
   "metadata": {
    "collapsed": false
   },
   "outputs": [],
   "source": [
    "gene_df1 = gene_df_init.loc[(gene_df_init[2]=='gene')&(~gene_df_init[8].str.contains('pseudo=true'))&\n",
    "                          (~gene_df_init[8].str.contains('partial=true'))&\n",
    "                           (~gene_df_init[8].str.contains('exception='))]"
   ]
  },
  {
   "cell_type": "markdown",
   "metadata": {},
   "source": [
    "Compare ncols between pre-filtered and post-filtered for \"gene\"."
   ]
  },
  {
   "cell_type": "code",
   "execution_count": 263,
   "metadata": {
    "collapsed": false
   },
   "outputs": [
    {
     "name": "stdout",
     "output_type": "stream",
     "text": [
      "1288070 30023\n"
     ]
    }
   ],
   "source": [
    "print(len(gene_df_init.index),len(gene_df1.index))"
   ]
  },
  {
   "cell_type": "code",
   "execution_count": 264,
   "metadata": {
    "collapsed": false
   },
   "outputs": [
    {
     "data": {
      "text/html": [
       "<div>\n",
       "<table border=\"1\" class=\"dataframe\">\n",
       "  <thead>\n",
       "    <tr style=\"text-align: right;\">\n",
       "      <th></th>\n",
       "      <th>0</th>\n",
       "      <th>1</th>\n",
       "      <th>2</th>\n",
       "      <th>3</th>\n",
       "      <th>4</th>\n",
       "      <th>6</th>\n",
       "      <th>8</th>\n",
       "    </tr>\n",
       "  </thead>\n",
       "  <tbody>\n",
       "    <tr>\n",
       "      <th>19</th>\n",
       "      <td>1</td>\n",
       "      <td>BestRefSeq</td>\n",
       "      <td>gene</td>\n",
       "      <td>17369</td>\n",
       "      <td>17436</td>\n",
       "      <td>-</td>\n",
       "      <td>ID=gene2;Dbxref=GeneID:102466751,HGNC:HGNC:500...</td>\n",
       "    </tr>\n",
       "    <tr>\n",
       "      <th>26</th>\n",
       "      <td>1</td>\n",
       "      <td>BestRefSeq</td>\n",
       "      <td>gene</td>\n",
       "      <td>30366</td>\n",
       "      <td>30503</td>\n",
       "      <td>+</td>\n",
       "      <td>ID=gene3;Dbxref=GeneID:100302278,HGNC:HGNC:352...</td>\n",
       "    </tr>\n",
       "    <tr>\n",
       "      <th>31</th>\n",
       "      <td>1</td>\n",
       "      <td>BestRefSeq</td>\n",
       "      <td>gene</td>\n",
       "      <td>34611</td>\n",
       "      <td>36081</td>\n",
       "      <td>-</td>\n",
       "      <td>ID=gene4;Dbxref=GeneID:645520,HGNC:HGNC:32334;...</td>\n",
       "    </tr>\n",
       "    <tr>\n",
       "      <th>38</th>\n",
       "      <td>1</td>\n",
       "      <td>BestRefSeq</td>\n",
       "      <td>gene</td>\n",
       "      <td>69091</td>\n",
       "      <td>70008</td>\n",
       "      <td>+</td>\n",
       "      <td>ID=gene7;Dbxref=GeneID:79501,HGNC:HGNC:14825,H...</td>\n",
       "    </tr>\n",
       "    <tr>\n",
       "      <th>49</th>\n",
       "      <td>1</td>\n",
       "      <td>BestRefSeq</td>\n",
       "      <td>gene</td>\n",
       "      <td>134773</td>\n",
       "      <td>140566</td>\n",
       "      <td>-</td>\n",
       "      <td>ID=gene10;Dbxref=GeneID:729737;Name=LOC729737;...</td>\n",
       "    </tr>\n",
       "  </tbody>\n",
       "</table>\n",
       "</div>"
      ],
      "text/plain": [
       "    0           1     2       3       4  6  \\\n",
       "19  1  BestRefSeq  gene   17369   17436  -   \n",
       "26  1  BestRefSeq  gene   30366   30503  +   \n",
       "31  1  BestRefSeq  gene   34611   36081  -   \n",
       "38  1  BestRefSeq  gene   69091   70008  +   \n",
       "49  1  BestRefSeq  gene  134773  140566  -   \n",
       "\n",
       "                                                    8  \n",
       "19  ID=gene2;Dbxref=GeneID:102466751,HGNC:HGNC:500...  \n",
       "26  ID=gene3;Dbxref=GeneID:100302278,HGNC:HGNC:352...  \n",
       "31  ID=gene4;Dbxref=GeneID:645520,HGNC:HGNC:32334;...  \n",
       "38  ID=gene7;Dbxref=GeneID:79501,HGNC:HGNC:14825,H...  \n",
       "49  ID=gene10;Dbxref=GeneID:729737;Name=LOC729737;...  "
      ]
     },
     "execution_count": 264,
     "metadata": {},
     "output_type": "execute_result"
    }
   ],
   "source": [
    "gene_df1.head()"
   ]
  },
  {
   "cell_type": "code",
   "execution_count": 265,
   "metadata": {
    "collapsed": false
   },
   "outputs": [],
   "source": [
    "# to split out the info in this column\n",
    "gene_df1[8].to_csv('gene_df_intermediate.tsv',sep='\\t',index=False)"
   ]
  },
  {
   "cell_type": "code",
   "execution_count": 266,
   "metadata": {
    "collapsed": false
   },
   "outputs": [],
   "source": [
    "gene_df2 = pd.read_csv('gene_df_intermediate.tsv',sep=';',index_col=False,skipinitialspace=True,\n",
    "                     error_bad_lines=False,warn_bad_lines=True,header=None,\n",
    "                       usecols=[1,2,3])"
   ]
  },
  {
   "cell_type": "code",
   "execution_count": 267,
   "metadata": {
    "collapsed": false
   },
   "outputs": [
    {
     "data": {
      "text/html": [
       "<div>\n",
       "<table border=\"1\" class=\"dataframe\">\n",
       "  <thead>\n",
       "    <tr style=\"text-align: right;\">\n",
       "      <th></th>\n",
       "      <th>1</th>\n",
       "      <th>2</th>\n",
       "      <th>3</th>\n",
       "    </tr>\n",
       "  </thead>\n",
       "  <tbody>\n",
       "    <tr>\n",
       "      <th>0</th>\n",
       "      <td>Dbxref=GeneID:102466751,HGNC:HGNC:50039,miRBas...</td>\n",
       "      <td>Name=MIR6859-1</td>\n",
       "      <td>description=microRNA 6859-1</td>\n",
       "    </tr>\n",
       "    <tr>\n",
       "      <th>1</th>\n",
       "      <td>Dbxref=GeneID:100302278,HGNC:HGNC:35294,miRBas...</td>\n",
       "      <td>Name=MIR1302-2</td>\n",
       "      <td>description=microRNA 1302-2</td>\n",
       "    </tr>\n",
       "    <tr>\n",
       "      <th>2</th>\n",
       "      <td>Dbxref=GeneID:645520,HGNC:HGNC:32334</td>\n",
       "      <td>Name=FAM138A</td>\n",
       "      <td>description=family with sequence similarity 13...</td>\n",
       "    </tr>\n",
       "    <tr>\n",
       "      <th>3</th>\n",
       "      <td>Dbxref=GeneID:79501,HGNC:HGNC:14825,HPRD:14974</td>\n",
       "      <td>Name=OR4F5</td>\n",
       "      <td>description=olfactory receptor family 4 subfam...</td>\n",
       "    </tr>\n",
       "    <tr>\n",
       "      <th>4</th>\n",
       "      <td>Dbxref=GeneID:729737</td>\n",
       "      <td>Name=LOC729737</td>\n",
       "      <td>description=uncharacterized LOC729737</td>\n",
       "    </tr>\n",
       "  </tbody>\n",
       "</table>\n",
       "</div>"
      ],
      "text/plain": [
       "                                                   1               2  \\\n",
       "0  Dbxref=GeneID:102466751,HGNC:HGNC:50039,miRBas...  Name=MIR6859-1   \n",
       "1  Dbxref=GeneID:100302278,HGNC:HGNC:35294,miRBas...  Name=MIR1302-2   \n",
       "2               Dbxref=GeneID:645520,HGNC:HGNC:32334    Name=FAM138A   \n",
       "3     Dbxref=GeneID:79501,HGNC:HGNC:14825,HPRD:14974      Name=OR4F5   \n",
       "4                               Dbxref=GeneID:729737  Name=LOC729737   \n",
       "\n",
       "                                                   3  \n",
       "0                        description=microRNA 6859-1  \n",
       "1                        description=microRNA 1302-2  \n",
       "2  description=family with sequence similarity 13...  \n",
       "3  description=olfactory receptor family 4 subfam...  \n",
       "4              description=uncharacterized LOC729737  "
      ]
     },
     "execution_count": 267,
     "metadata": {},
     "output_type": "execute_result"
    }
   ],
   "source": [
    "gene_df2.head()"
   ]
  },
  {
   "cell_type": "code",
   "execution_count": 268,
   "metadata": {
    "collapsed": false
   },
   "outputs": [],
   "source": [
    "# extract just GeneID for column 1\n",
    "\n",
    "gene_df2[1]=gene_df2[1].str.extract('GeneID:(\\d+)',expand=False).astype(int)"
   ]
  },
  {
   "cell_type": "code",
   "execution_count": 269,
   "metadata": {
    "collapsed": false
   },
   "outputs": [],
   "source": [
    "# extract gene name for column 2\n",
    "\n",
    "gene_df2[2]=gene_df2[2].str.extract('Name=(.*)',expand=False)"
   ]
  },
  {
   "cell_type": "code",
   "execution_count": 270,
   "metadata": {
    "collapsed": false
   },
   "outputs": [],
   "source": [
    "# extract description from column 3\n",
    "\n",
    "gene_df2[3]=gene_df2[3].str.extract('description=(.*)',expand=False)"
   ]
  },
  {
   "cell_type": "code",
   "execution_count": 271,
   "metadata": {
    "collapsed": false
   },
   "outputs": [],
   "source": [
    "# make column names more descriptive\n",
    "\n",
    "gene_df2.columns=['geneID','gene_name','description']"
   ]
  },
  {
   "cell_type": "code",
   "execution_count": 320,
   "metadata": {
    "collapsed": false
   },
   "outputs": [],
   "source": [
    "# grab useful columns from gene_df\n",
    "\n",
    "gene_df3 = gene_df1[[0,2,3,4,6]].reset_index(drop=True)"
   ]
  },
  {
   "cell_type": "code",
   "execution_count": 327,
   "metadata": {
    "collapsed": false
   },
   "outputs": [],
   "source": [
    "gene_df = gene_df2.merge(gene_df3,left_index=True,right_index=True)"
   ]
  },
  {
   "cell_type": "code",
   "execution_count": 328,
   "metadata": {
    "collapsed": false
   },
   "outputs": [
    {
     "data": {
      "text/html": [
       "<div>\n",
       "<table border=\"1\" class=\"dataframe\">\n",
       "  <thead>\n",
       "    <tr style=\"text-align: right;\">\n",
       "      <th></th>\n",
       "      <th>geneID</th>\n",
       "      <th>gene_name</th>\n",
       "      <th>description</th>\n",
       "      <th>0</th>\n",
       "      <th>2</th>\n",
       "      <th>3</th>\n",
       "      <th>4</th>\n",
       "      <th>6</th>\n",
       "    </tr>\n",
       "  </thead>\n",
       "  <tbody>\n",
       "    <tr>\n",
       "      <th>0</th>\n",
       "      <td>102466751</td>\n",
       "      <td>MIR6859-1</td>\n",
       "      <td>microRNA 6859-1</td>\n",
       "      <td>1</td>\n",
       "      <td>gene</td>\n",
       "      <td>17369</td>\n",
       "      <td>17436</td>\n",
       "      <td>-</td>\n",
       "    </tr>\n",
       "    <tr>\n",
       "      <th>1</th>\n",
       "      <td>100302278</td>\n",
       "      <td>MIR1302-2</td>\n",
       "      <td>microRNA 1302-2</td>\n",
       "      <td>1</td>\n",
       "      <td>gene</td>\n",
       "      <td>30366</td>\n",
       "      <td>30503</td>\n",
       "      <td>+</td>\n",
       "    </tr>\n",
       "    <tr>\n",
       "      <th>2</th>\n",
       "      <td>645520</td>\n",
       "      <td>FAM138A</td>\n",
       "      <td>family with sequence similarity 138 member A</td>\n",
       "      <td>1</td>\n",
       "      <td>gene</td>\n",
       "      <td>34611</td>\n",
       "      <td>36081</td>\n",
       "      <td>-</td>\n",
       "    </tr>\n",
       "    <tr>\n",
       "      <th>3</th>\n",
       "      <td>79501</td>\n",
       "      <td>OR4F5</td>\n",
       "      <td>olfactory receptor family 4 subfamily F member 5</td>\n",
       "      <td>1</td>\n",
       "      <td>gene</td>\n",
       "      <td>69091</td>\n",
       "      <td>70008</td>\n",
       "      <td>+</td>\n",
       "    </tr>\n",
       "    <tr>\n",
       "      <th>4</th>\n",
       "      <td>729737</td>\n",
       "      <td>LOC729737</td>\n",
       "      <td>uncharacterized LOC729737</td>\n",
       "      <td>1</td>\n",
       "      <td>gene</td>\n",
       "      <td>134773</td>\n",
       "      <td>140566</td>\n",
       "      <td>-</td>\n",
       "    </tr>\n",
       "  </tbody>\n",
       "</table>\n",
       "</div>"
      ],
      "text/plain": [
       "      geneID  gene_name                                       description  0  \\\n",
       "0  102466751  MIR6859-1                                   microRNA 6859-1  1   \n",
       "1  100302278  MIR1302-2                                   microRNA 1302-2  1   \n",
       "2     645520    FAM138A      family with sequence similarity 138 member A  1   \n",
       "3      79501      OR4F5  olfactory receptor family 4 subfamily F member 5  1   \n",
       "4     729737  LOC729737                         uncharacterized LOC729737  1   \n",
       "\n",
       "      2       3       4  6  \n",
       "0  gene   17369   17436  -  \n",
       "1  gene   30366   30503  +  \n",
       "2  gene   34611   36081  -  \n",
       "3  gene   69091   70008  +  \n",
       "4  gene  134773  140566  -  "
      ]
     },
     "execution_count": 328,
     "metadata": {},
     "output_type": "execute_result"
    }
   ],
   "source": [
    "gene_df.head()"
   ]
  },
  {
   "cell_type": "code",
   "execution_count": 329,
   "metadata": {
    "collapsed": false
   },
   "outputs": [],
   "source": [
    "gene_df.columns=['geneID','gene_name','description','chrom','desc','start','stop','strand']"
   ]
  },
  {
   "cell_type": "code",
   "execution_count": 330,
   "metadata": {
    "collapsed": false
   },
   "outputs": [
    {
     "data": {
      "text/html": [
       "<div>\n",
       "<table border=\"1\" class=\"dataframe\">\n",
       "  <thead>\n",
       "    <tr style=\"text-align: right;\">\n",
       "      <th></th>\n",
       "      <th>geneID</th>\n",
       "      <th>gene_name</th>\n",
       "      <th>description</th>\n",
       "      <th>chrom</th>\n",
       "      <th>desc</th>\n",
       "      <th>start</th>\n",
       "      <th>stop</th>\n",
       "      <th>strand</th>\n",
       "    </tr>\n",
       "  </thead>\n",
       "  <tbody>\n",
       "    <tr>\n",
       "      <th>0</th>\n",
       "      <td>102466751</td>\n",
       "      <td>MIR6859-1</td>\n",
       "      <td>microRNA 6859-1</td>\n",
       "      <td>1</td>\n",
       "      <td>gene</td>\n",
       "      <td>17369</td>\n",
       "      <td>17436</td>\n",
       "      <td>-</td>\n",
       "    </tr>\n",
       "    <tr>\n",
       "      <th>1</th>\n",
       "      <td>100302278</td>\n",
       "      <td>MIR1302-2</td>\n",
       "      <td>microRNA 1302-2</td>\n",
       "      <td>1</td>\n",
       "      <td>gene</td>\n",
       "      <td>30366</td>\n",
       "      <td>30503</td>\n",
       "      <td>+</td>\n",
       "    </tr>\n",
       "    <tr>\n",
       "      <th>2</th>\n",
       "      <td>645520</td>\n",
       "      <td>FAM138A</td>\n",
       "      <td>family with sequence similarity 138 member A</td>\n",
       "      <td>1</td>\n",
       "      <td>gene</td>\n",
       "      <td>34611</td>\n",
       "      <td>36081</td>\n",
       "      <td>-</td>\n",
       "    </tr>\n",
       "    <tr>\n",
       "      <th>3</th>\n",
       "      <td>79501</td>\n",
       "      <td>OR4F5</td>\n",
       "      <td>olfactory receptor family 4 subfamily F member 5</td>\n",
       "      <td>1</td>\n",
       "      <td>gene</td>\n",
       "      <td>69091</td>\n",
       "      <td>70008</td>\n",
       "      <td>+</td>\n",
       "    </tr>\n",
       "    <tr>\n",
       "      <th>4</th>\n",
       "      <td>729737</td>\n",
       "      <td>LOC729737</td>\n",
       "      <td>uncharacterized LOC729737</td>\n",
       "      <td>1</td>\n",
       "      <td>gene</td>\n",
       "      <td>134773</td>\n",
       "      <td>140566</td>\n",
       "      <td>-</td>\n",
       "    </tr>\n",
       "  </tbody>\n",
       "</table>\n",
       "</div>"
      ],
      "text/plain": [
       "      geneID  gene_name                                       description  \\\n",
       "0  102466751  MIR6859-1                                   microRNA 6859-1   \n",
       "1  100302278  MIR1302-2                                   microRNA 1302-2   \n",
       "2     645520    FAM138A      family with sequence similarity 138 member A   \n",
       "3      79501      OR4F5  olfactory receptor family 4 subfamily F member 5   \n",
       "4     729737  LOC729737                         uncharacterized LOC729737   \n",
       "\n",
       "  chrom  desc   start    stop strand  \n",
       "0     1  gene   17369   17436      -  \n",
       "1     1  gene   30366   30503      +  \n",
       "2     1  gene   34611   36081      -  \n",
       "3     1  gene   69091   70008      +  \n",
       "4     1  gene  134773  140566      -  "
      ]
     },
     "execution_count": 330,
     "metadata": {},
     "output_type": "execute_result"
    }
   ],
   "source": [
    "gene_df.head()"
   ]
  },
  {
   "cell_type": "code",
   "execution_count": 331,
   "metadata": {
    "collapsed": false
   },
   "outputs": [],
   "source": [
    "chrom_set = {1,2,3,4,5,6,7,8,9,10,11,12,13,14,15,16,17,18,19,20,21,22,'Y','X','M'}"
   ]
  },
  {
   "cell_type": "code",
   "execution_count": 333,
   "metadata": {
    "collapsed": false
   },
   "outputs": [],
   "source": [
    "# remove unmapped/alternative chromosome entries\n",
    "\n",
    "gene_df = gene_df[gene_df['chrom'].isin(chrom_set)]"
   ]
  },
  {
   "cell_type": "code",
   "execution_count": 334,
   "metadata": {
    "collapsed": false
   },
   "outputs": [],
   "source": [
    "gene_df.to_csv('gene_df_complete.tsv',sep='\\t',index=False)"
   ]
  },
  {
   "cell_type": "code",
   "execution_count": null,
   "metadata": {
    "collapsed": true
   },
   "outputs": [],
   "source": []
  }
 ],
 "metadata": {
  "kernelspec": {
   "display_name": "Python [conda root]",
   "language": "python",
   "name": "conda-root-py"
  },
  "language_info": {
   "codemirror_mode": {
    "name": "ipython",
    "version": 3
   },
   "file_extension": ".py",
   "mimetype": "text/x-python",
   "name": "python",
   "nbconvert_exporter": "python",
   "pygments_lexer": "ipython3",
   "version": "3.5.3"
  }
 },
 "nbformat": 4,
 "nbformat_minor": 2
}
